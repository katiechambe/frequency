{
 "cells": [
  {
   "cell_type": "code",
   "execution_count": 10,
   "metadata": {},
   "outputs": [],
   "source": [
    "import numpy as np\n",
    "import matplotlib\n",
    "import matplotlib.pyplot as plt\n",
    "import pandas as pd\n",
    "from mpl_toolkits.mplot3d import Axes3D\n",
    "import math\n",
    "import sys\n",
    "\n",
    "# Adding plotting aesthetics\n",
    "plt.rc('text', usetex=True)\n",
    "plt.rc('font', family='CMU Serif')\n",
    "\n",
    "# Adding .py modules from Toolkit\n",
    "sys.path.append('/Users/katie/Documents/Research/Projects/Toolkit/')\n",
    "from positionCorrection import positionCorrection as correct\n"
   ]
  },
  {
   "cell_type": "code",
   "execution_count": 11,
   "metadata": {},
   "outputs": [],
   "source": [
    "############################################\n",
    "# Defining the redshift-snapshots relation #\n",
    "############################################\n",
    "\n",
    "snapData = np.genfromtxt('data/data_spacing.txt')\n",
    "snapshots = snapData[:,0]\n",
    "scale = snapData[:,1]\n",
    "redshift = snapData[:,2]\n"
   ]
  },
  {
   "cell_type": "code",
   "execution_count": 12,
   "metadata": {},
   "outputs": [],
   "source": [
    "#############################################\n",
    "# Defining all the data files and snapshots #\n",
    "#############################################\n",
    "\n",
    "snaps = np.array([135, 131, 126, 117, 103, 93, 84, 75])\n",
    "reds = np.array([redshift[snapshots == i][0] for i in snaps])\n",
    "scales = 1/(1+reds)\n",
    "\n",
    "primFiles = ['data/data_primaries_'+str(i)+'.csv' for i in snaps]\n",
    "secoFiles = ['data/data_secondaries_'+str(i)+'.csv' for i in snaps]\n",
    "\n",
    "primLMCFiles = ['data/data_primaries_LMCAnalogs_'+str(i)+'.csv' for i in snaps]\n",
    "secoLMCFiles = ['data/data_secondaries_LMCAnalogs_'+str(i)+'.csv' for i in snaps]\n",
    "\n",
    "primMassFiles = ['data/data_primaries_massAnalogs_'+str(i)+'.csv' for i in snaps]\n",
    "secoMassFiles = ['data/data_secondaries_massAnalogs_'+str(i)+'.csv' for i in snaps]\n",
    "\n",
    "primBoundFiles = ['data/data_primaries_boundAnalogs_'+str(i)+'.csv' for i in snaps]\n",
    "secoBoundFiles = ['data/data_secondaries_boundAnalogs_'+str(i)+'.csv' for i in snaps]\n",
    "\n",
    "primMajorFiles = ['data/data_primaries_majorPairs_'+str(i)+'.csv' for i in snaps]\n",
    "secoMajorFiles = ['data/data_secondaries_majorPairs_'+str(i)+'.csv' for i in snaps]\n",
    "\n"
   ]
  },
  {
   "cell_type": "code",
   "execution_count": 13,
   "metadata": {},
   "outputs": [
    {
     "name": "stdout",
     "output_type": "stream",
     "text": [
      "[135 131 126 117 103  93  84  75]\n",
      "[5664 5374 5217 4980 4129 3238 2511 1517]\n",
      "[117  89 105  98  80  50  34  13]\n",
      "[53 44 59 44 37 24 20  7]\n",
      "[142 118 134 118 105 111  92  44]\n"
     ]
    }
   ],
   "source": [
    "########################################\n",
    "# The number of pairs in each category #\n",
    "########################################\n",
    "\n",
    "numberTotals = np.array([len(pd.read_csv(primFiles[i])) for i in range(len(snaps))])\n",
    "numberLMCTotals = np.array([len(pd.read_csv(primLMCFiles[i])) for i in range(len(snaps))])\n",
    "numberMassTotals = np.array([len(pd.read_csv(primMassFiles[i])) for i in range(len(snaps))])\n",
    "numberBoundTotals = np.array([len(pd.read_csv(primBoundFiles[i])) for i in range(len(snaps))])\n",
    "numberMajorTotals = np.array([len(pd.read_csv(primMajorFiles[i])) for i in range(len(snaps))])\n",
    "\n",
    "print(snaps)\n",
    "print(numberLMCTotals)\n",
    "print(numberMassTotals)\n",
    "print(numberBoundTotals)\n",
    "print(numberMajorTotals)\n"
   ]
  },
  {
   "cell_type": "code",
   "execution_count": 14,
   "metadata": {},
   "outputs": [
    {
     "data": {
      "image/png": "[encoded data removed]",
      "text/plain": [
       "<Figure size 432x288 with 1 Axes>"
      ]
     },
     "metadata": {
      "needs_background": "light"
     },
     "output_type": "display_data"
    }
   ],
   "source": [
    "####################################################################\n",
    "# Making plot of the fraction of LMCs that have various companions #\n",
    "####################################################################\n",
    "\n",
    "plt.figure(figsize=(6,4))\n",
    "plt.plot(reds, np.array(numberMajorTotals)/np.array(numberLMCTotals),   color=\"black\", label='with major companion')\n",
    "plt.plot(reds, np.array(numberMassTotals)/np.array(numberLMCTotals), '--',color=\"darkgrey\",label=\"with SMC Analog\")\n",
    "plt.plot(reds, np.array(numberBoundTotals)/np.array(numberLMCTotals),\"-.\", color=\"lightgrey\", label='with bound SMC analog')\n",
    "plt.scatter(reds, np.array(numberMajorTotals)/np.array(numberLMCTotals),   color=\"black\") \n",
    "plt.scatter(reds, np.array(numberMassTotals)/np.array(numberLMCTotals),color=\"darkgrey\")\n",
    "plt.scatter(reds, np.array(numberBoundTotals)/np.array(numberLMCTotals), color=\"lightgrey\")\n",
    "plt.legend(loc='center right')\n",
    "plt.xlabel('Redshift',fontsize=20)\n",
    "plt.ylabel('Fraction of LMCs',fontsize=20)\n",
    "plt.xticks(np.array([0,0.25,0.5,0.75,1,1.5]),fontsize=20)\n",
    "plt.yticks(fontsize=20)\n",
    "plt.tight_layout()\n",
    "plt.savefig('plots_dwarfPairs/analogRatio.pdf')\n",
    "plt.savefig('plots_dwarfPairs/analogRatio.png', dpi=1200)\n",
    "plt.show()\n"
   ]
  },
  {
   "cell_type": "code",
   "execution_count": null,
   "metadata": {},
   "outputs": [],
   "source": [
    "####################################################################\n",
    "# Making plot of the fraction of LMCs that have various companions #\n",
    "####################################################################\n",
    "\n",
    "plt.figure(figsize=(6,4))\n",
    "plt.plot(reds, np.array(numberMajorTotals)/np.array(numberLMCTotals),   color=\"black\", label='with major companion')\n",
    "plt.plot(reds, np.array(numberMassTotals)/np.array(numberLMCTotals), '--',color=\"darkgrey\",label=\"with SMC Analog\")\n",
    "plt.plot(reds, np.array(numberBoundTotals)/np.array(numberLMCTotals),\"-.\", color=\"lightgrey\", label='with bound SMC analog')\n",
    "plt.scatter(reds, np.array(numberMajorTotals)/np.array(numberLMCTotals),   color=\"black\") \n",
    "plt.scatter(reds, np.array(numberMassTotals)/np.array(numberLMCTotals),color=\"darkgrey\")\n",
    "plt.scatter(reds, np.array(numberBoundTotals)/np.array(numberLMCTotals), color=\"lightgrey\")\n",
    "plt.legend(loc='center right')\n",
    "plt.xlabel('Redshift',fontsize=20)\n",
    "plt.ylabel('Fraction of LMCs',fontsize=20)\n",
    "plt.xticks(np.array([0,0.25,0.5,0.75,1,1.5]),fontsize=20)\n",
    "plt.yticks(fontsize=20)\n",
    "plt.tight_layout()\n",
    "plt.savefig('plots_dwarfPairs/analogRatio.pdf')\n",
    "plt.savefig('plots_dwarfPairs/analogRatio.png', dpi=1200)\n",
    "plt.show()\n",
    " "
   ]
  }
 ],
 "metadata": {
  "kernelspec": {
   "display_name": "Python 3",
   "language": "python",
   "name": "python3"
  },
  "language_info": {
   "codemirror_mode": {
    "name": "ipython",
    "version": 3
   },
   "file_extension": ".py",
   "mimetype": "text/x-python",
   "name": "python",
   "nbconvert_exporter": "python",
   "pygments_lexer": "ipython3",
   "version": "3.7.0"
  }
 },
 "nbformat": 4,
 "nbformat_minor": 2
}
