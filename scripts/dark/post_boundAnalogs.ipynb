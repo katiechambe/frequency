{
 "cells": [
  {
   "cell_type": "code",
   "execution_count": 2,
   "metadata": {},
   "outputs": [],
   "source": [
    "import numpy as np\n",
    "import matplotlib.pyplot as plt\n",
    "import pandas as pd\n",
    "from positionCorrection import positionCorrection as correct\n",
    "from mpl_toolkits.mplot3d import Axes3D\n",
    "import math"
   ]
  },
  {
   "cell_type": "code",
   "execution_count": 3,
   "metadata": {},
   "outputs": [],
   "source": [
    "snapData = np.genfromtxt('data/data_spacing.txt')\n",
    "snapshots = snapData[:,0]\n",
    "scale = snapData[:,1]\n",
    "redshift = snapData[:,2]\n"
   ]
  },
  {
   "cell_type": "code",
   "execution_count": 4,
   "metadata": {
    "scrolled": true
   },
   "outputs": [],
   "source": [
    "# reading in the data for all subhalos in identified groups\n",
    "snaps = np.array([135, 131, 126, 117, 103, 93, 84, 75])\n",
    "reds = np.array([redshift[snapshots == i][0] for i in snaps])\n",
    "scales = 1/(1+reds)\n",
    "\n",
    "primFiles = ['data/data_primaries_massAnalogs_'+str(i)+'.csv' for i in snaps]\n",
    "secoFiles = ['data/data_secondaries_massAnalogs_'+str(i)+'.csv' for i in snaps]\n"
   ]
  },
  {
   "cell_type": "code",
   "execution_count": 5,
   "metadata": {},
   "outputs": [],
   "source": [
    "#######################################\n",
    "# Mass cuts for bound LMC/SMC analogs #\n",
    "#######################################\n",
    "numberBoundAnalogs = []\n",
    "\n",
    "primaryCols = ['Group Number', 'Subhalo ID','Redshift', 'Mass at z=0', 'Max Mass',\n",
    "           'Max Mass Snap', 'Redshift at Max Mass', 'Rvir at z=0', 'Rvir at Max Mass', 'Pos x',\n",
    "           'Pos y', 'Pos z', 'Vel x', 'Vel y', 'Vel z', 'AM Stellar Mass']\n",
    "secondaryCols = ['Group Number', 'Subhalo ID','Redshift', 'Mass at z=0', 'Max Mass',\n",
    "           'Max Mass Snap', 'Redshift at Max Mass', 'Rvir at z=0', 'Rvir at Max Mass', 'Pos x',\n",
    "           'Pos y', 'Pos z', 'Vel x', 'Vel y', 'Vel z', 'AM Stellar Mass','Escape Speed z=0','Escape Speed Max Mass']\n",
    "\n",
    "for i in range(len(snaps)):\n",
    "    #################################\n",
    "    # velocity and separation cuts! #\n",
    "    #################################\n",
    "    prims = pd.read_csv(primFiles[i])\n",
    "    secos = pd.read_csv(secoFiles[i])\n",
    "    \n",
    "    # finding scaled separation for each halo pair\n",
    "    primaryPos = np.column_stack([prims['Pos x'],prims['Pos y'],prims['Pos z']])\n",
    "    secondaryPos = np.column_stack([secos['Pos x'],secos['Pos y'],secos['Pos z']])\n",
    "    correctedSeparations = np.array([np.linalg.norm(i) for i in np.array(correct(primaryPos,secondaryPos))])\n",
    "    scaledSeparation = correctedSeparations/prims['Rvir at Max Mass'].values\n",
    "\n",
    "    # finding scaled velocity for each halo pair\n",
    "    primaryVel = np.column_stack([prims['Vel x'],prims['Vel y'],prims['Vel z']])\n",
    "    secondaryVel = np.column_stack([secos['Vel x'],secos['Vel y'],secos['Vel z']])\n",
    "    relativeVelocity = np.array([np.linalg.norm(i) for i in (primaryVel-secondaryVel)])\n",
    "    scaledVelocity = relativeVelocity/secos['Escape Speed z=0'].values\n",
    "\n",
    "    # creating masks to include only \"bound\" halos\n",
    "    PosCut = (scaledSeparation <= 1)\n",
    "    VelCut = (scaledVelocity <= 1)\n",
    "    \n",
    "    # applying bound cuts to \n",
    "    boundCut = PosCut&VelCut\n",
    "    prims_boundCut = prims[boundCut]\n",
    "    secos_boundCut = secos[boundCut]\n",
    "    numberBoundAnalogs.append(len(prims_boundCut))\n",
    "    \n",
    "    LMCFileToSave = 'data/data_primaries_boundAnalogs_'+str(snaps[i])+'.csv'\n",
    "    SMCFileToSave = 'data/data_secondaries_boundAnalogs_'+str(snaps[i])+'.csv'\n",
    "    \n",
    "    primsData = pd.DataFrame(data = prims_boundCut, columns=primaryCols)\n",
    "    primsData.to_csv(LMCFileToSave,index=False,header=True)\n",
    "    \n",
    "    secosData = pd.DataFrame(data = secos_boundCut, columns=secondaryCols)\n",
    "    secosData.to_csv(SMCFileToSave,index=False,header=True)\n",
    "    "
   ]
  },
  {
   "cell_type": "code",
   "execution_count": 7,
   "metadata": {},
   "outputs": [
    {
     "name": "stdout",
     "output_type": "stream",
     "text": [
      "[53, 44, 59, 44, 37, 24, 20, 7]\n",
      "[135 131 126 117 103  93  84  75]\n"
     ]
    }
   ],
   "source": [
    "print(numberBoundAnalogs)\n",
    "print(snaps)"
   ]
  },
  {
   "cell_type": "code",
   "execution_count": null,
   "metadata": {},
   "outputs": [],
   "source": []
  }
 ],
 "metadata": {
  "kernelspec": {
   "display_name": "Python 3",
   "language": "python",
   "name": "python3"
  },
  "language_info": {
   "codemirror_mode": {
    "name": "ipython",
    "version": 3
   },
   "file_extension": ".py",
   "mimetype": "text/x-python",
   "name": "python",
   "nbconvert_exporter": "python",
   "pygments_lexer": "ipython3",
   "version": "3.7.1"
  }
 },
 "nbformat": 4,
 "nbformat_minor": 2
}
