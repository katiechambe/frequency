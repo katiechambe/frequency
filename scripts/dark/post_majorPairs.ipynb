{
 "cells": [
  {
   "cell_type": "code",
   "execution_count": 4,
   "metadata": {},
   "outputs": [],
   "source": [
    "import numpy as np\n",
    "import matplotlib.pyplot as plt\n",
    "import pandas as pd\n",
    "from positionCorrection import positionCorrection as correct\n",
    "from mpl_toolkits.mplot3d import Axes3D\n",
    "import math"
   ]
  },
  {
   "cell_type": "code",
   "execution_count": 5,
   "metadata": {},
   "outputs": [],
   "source": [
    "snapData = np.genfromtxt('data/data_spacing.txt')\n",
    "snapshots = snapData[:,0]\n",
    "scale = snapData[:,1]\n",
    "redshift = snapData[:,2]\n"
   ]
  },
  {
   "cell_type": "code",
   "execution_count": 6,
   "metadata": {},
   "outputs": [],
   "source": [
    "snaps = np.array([135, 131, 126, 117, 103, 93, 84, 75])\n",
    "reds = np.array([redshift[snapshots == i][0] for i in snaps])\n",
    "scales = 1/(1+reds)\n",
    "\n",
    "\n",
    "primFiles = ['data/data_primaries_LMCAnalogs_'+str(i)+'.csv' for i in snaps]\n",
    "secoFiles = ['data/data_secondaries_LMCAnalogs_'+str(i)+'.csv' for i in snaps]\n"
   ]
  },
  {
   "cell_type": "code",
   "execution_count": 13,
   "metadata": {},
   "outputs": [],
   "source": [
    "#######################################\n",
    "# Mass cuts for LMC/SMC analogs       #\n",
    "#######################################\n",
    "numberMajorAnalogs = []\n",
    "\n",
    "primaryCols = ['Group Number', 'Subhalo ID','Redshift', 'Mass at z=0', 'Max Mass',\n",
    "           'Max Mass Snap', 'Redshift at Max Mass', 'Rvir at z=0', 'Rvir at Max Mass', 'Pos x',\n",
    "           'Pos y', 'Pos z', 'Vel x', 'Vel y', 'Vel z', 'AM Stellar Mass']\n",
    "secondaryCols = ['Group Number', 'Subhalo ID','Redshift', 'Mass at z=0', 'Max Mass',\n",
    "           'Max Mass Snap', 'Redshift at Max Mass', 'Rvir at z=0', 'Rvir at Max Mass', 'Pos x',\n",
    "           'Pos y', 'Pos z', 'Vel x', 'Vel y', 'Vel z', 'AM Stellar Mass','Escape Speed z=0','Escape Speed Max Mass']\n",
    "\n",
    "for i in range(len(snaps)):\n",
    "    #####################\n",
    "    # mass analog cuts! #\n",
    "    #####################\n",
    "    prims = pd.read_csv(primFiles[i])\n",
    "    secos = pd.read_csv(secoFiles[i])\n",
    "\n",
    "    # defining the mass ratio according to stellar mass\n",
    "    massRatio = secos['AM Stellar Mass']/prims['AM Stellar Mass'] \n",
    "    \n",
    "    #SMC/LMC stellar mass ratio between 1/15 and 1/5\n",
    "    majorRatioCut = np.logical_and(massRatio > 1/4, massRatio < 1)\n",
    "    \n",
    "    #creating mass mask for pairs that pass the above 3 criteria\n",
    "    majorCuts = majorRatioCut\n",
    "    \n",
    "    #creating data tables of mass cuts  (bound and unbound)\n",
    "    prims_majorCut = prims[majorCuts]\n",
    "    secos_majorCut = secos[majorCuts]\n",
    "    numberMajorAnalogs.append(len(prims_majorCut))\n",
    "    \n",
    "    LMCFileToSave = 'data/data_primaries_majorPairs_'+str(snaps[i])+'.csv'\n",
    "    SMCFileToSave = 'data/data_secondaries_majorPairs_'+str(snaps[i])+'.csv'\n",
    "    \n",
    "    primsData = pd.DataFrame(data = prims_majorCut, columns=primaryCols)\n",
    "    primsData.to_csv(LMCFileToSave,index=False,header=True)\n",
    "    \n",
    "    secosData = pd.DataFrame(data = secos_majorCut, columns=secondaryCols)\n",
    "    secosData.to_csv(SMCFileToSave,index=False,header=True)\n",
    "    "
   ]
  },
  {
   "cell_type": "code",
   "execution_count": 14,
   "metadata": {},
   "outputs": [
    {
     "name": "stdout",
     "output_type": "stream",
     "text": [
      "[142, 118, 134, 118, 105, 111, 92, 44]\n"
     ]
    }
   ],
   "source": [
    "print(numberMajorAnalogs)"
   ]
  },
  {
   "cell_type": "code",
   "execution_count": null,
   "metadata": {},
   "outputs": [],
   "source": []
  }
 ],
 "metadata": {
  "kernelspec": {
   "display_name": "Python 3",
   "language": "python",
   "name": "python3"
  },
  "language_info": {
   "codemirror_mode": {
    "name": "ipython",
    "version": 3
   },
   "file_extension": ".py",
   "mimetype": "text/x-python",
   "name": "python",
   "nbconvert_exporter": "python",
   "pygments_lexer": "ipython3",
   "version": "3.7.1"
  }
 },
 "nbformat": 4,
 "nbformat_minor": 2
}
