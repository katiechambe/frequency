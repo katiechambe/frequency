{
 "cells": [
  {
   "cell_type": "code",
   "execution_count": 1,
   "metadata": {},
   "outputs": [],
   "source": [
    "import numpy as np\n",
    "import matplotlib.pyplot as plt\n",
    "import pandas as pd\n",
    "from positionCorrection import positionCorrection as correct\n",
    "from mpl_toolkits.mplot3d import Axes3D\n",
    "import math"
   ]
  },
  {
   "cell_type": "code",
   "execution_count": 2,
   "metadata": {},
   "outputs": [],
   "source": [
    "snapData = np.genfromtxt('data/data_spacing.txt')\n",
    "snapshots = snapData[:,0]\n",
    "scale = snapData[:,1]\n",
    "redshift = snapData[:,2]\n"
   ]
  },
  {
   "cell_type": "code",
   "execution_count": 3,
   "metadata": {
    "scrolled": true
   },
   "outputs": [],
   "source": [
    "# reading in the data for all subhalos in identified groups\n",
    "snaps = np.array([135, 131, 126, 117, 103, 93, 84, 75])\n",
    "reds = np.array([redshift[snapshots == i][0] for i in snaps])\n",
    "scales = 1/(1+reds)\n",
    "\n",
    "primFiles = ['data/data_primaries_LMCAnalogs_'+str(i)+'.csv' for i in snaps]\n",
    "secoFiles = ['data/data_secondaries_LMCAnalogs_'+str(i)+'.csv' for i in snaps]\n"
   ]
  },
  {
   "cell_type": "code",
   "execution_count": 4,
   "metadata": {},
   "outputs": [],
   "source": [
    "#######################################\n",
    "# Mass cuts for LMC/SMC analogs       #\n",
    "#######################################\n",
    "numberMassAnalogs = []\n",
    "\n",
    "primaryCols = ['Group Number', 'Subhalo ID','Redshift', 'Mass at z=0', 'Max Mass',\n",
    "           'Max Mass Snap', 'Redshift at Max Mass', 'Rvir at z=0', 'Rvir at Max Mass', 'Pos x',\n",
    "           'Pos y', 'Pos z', 'Vel x', 'Vel y', 'Vel z', 'AM Stellar Mass']\n",
    "secondaryCols = ['Group Number', 'Subhalo ID','Redshift', 'Mass at z=0', 'Max Mass',\n",
    "           'Max Mass Snap', 'Redshift at Max Mass', 'Rvir at z=0', 'Rvir at Max Mass', 'Pos x',\n",
    "           'Pos y', 'Pos z', 'Vel x', 'Vel y', 'Vel z', 'AM Stellar Mass','Escape Speed z=0','Escape Speed Max Mass']\n",
    "\n",
    "for i in range(len(snaps)):\n",
    "    #####################\n",
    "    # mass analog cuts! #\n",
    "    #####################\n",
    "    prims = pd.read_csv(primFiles[i])\n",
    "    secos = pd.read_csv(secoFiles[i])\n",
    "\n",
    "    # defining the mass ratio according to stellar mass\n",
    "    massRatio = secos['AM Stellar Mass']/prims['AM Stellar Mass'] \n",
    "    \n",
    "    #SMC/LMC stellar mass ratio between 1/15 and 1/5\n",
    "    SMCratioCut = np.logical_and(massRatio > 1/15, massRatio < 1/5)\n",
    "    \n",
    "    #SMC stellar mass > 2e8\n",
    "    SMCmassCut = (0.02 <= secos['AM Stellar Mass'])\n",
    "    \n",
    "    #creating mass mask for pairs that pass the above 3 criteria\n",
    "    massCuts = SMCratioCut&SMCmassCut\n",
    "    \n",
    "    #creating mask for pairs that have LMCs, but do not have an LMC-like companion\n",
    "    cutNoSMCs = ~SMCratioCut&~SMCmassCut\n",
    "    \n",
    "    #creating data tables of mass cuts  (bound and unbound)\n",
    "    prims_massCut = prims[massCuts]\n",
    "    secos_massCut = secos[massCuts]\n",
    "    numberMassAnalogs.append(len(prims_massCut))\n",
    "    \n",
    "    LMCFileToSave = 'data/data_primaries_massAnalogs_'+str(snaps[i])+'.csv'\n",
    "    SMCFileToSave = 'data/data_secondaries_massAnalogs_'+str(snaps[i])+'.csv'\n",
    "    \n",
    "    primsData = pd.DataFrame(data = prims_massCut, columns=primaryCols)\n",
    "    primsData.to_csv(LMCFileToSave,index=False,header=True)\n",
    "    \n",
    "    secosData = pd.DataFrame(data = secos_massCut, columns=secondaryCols)\n",
    "    secosData.to_csv(SMCFileToSave,index=False,header=True)\n",
    "    "
   ]
  },
  {
   "cell_type": "code",
   "execution_count": null,
   "metadata": {},
   "outputs": [],
   "source": []
  }
 ],
 "metadata": {
  "kernelspec": {
   "display_name": "Python 3",
   "language": "python",
   "name": "python3"
  },
  "language_info": {
   "codemirror_mode": {
    "name": "ipython",
    "version": 3
   },
   "file_extension": ".py",
   "mimetype": "text/x-python",
   "name": "python",
   "nbconvert_exporter": "python",
   "pygments_lexer": "ipython3",
   "version": "3.7.1"
  }
 },
 "nbformat": 4,
 "nbformat_minor": 2
}
